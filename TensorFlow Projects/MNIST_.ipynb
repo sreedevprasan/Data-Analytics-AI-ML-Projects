{
 "cells": [
  {
   "cell_type": "code",
   "execution_count": 1,
   "id": "7b3120be",
   "metadata": {},
   "outputs": [],
   "source": [
    "import numpy as np\n",
    "import tensorflow as tf\n",
    "import tensorflow_datasets as tfds"
   ]
  },
  {
   "cell_type": "code",
   "execution_count": 2,
   "id": "5319bf76",
   "metadata": {},
   "outputs": [],
   "source": [
    "mnist_data, mnist_info = tfds.load(name='mnist', with_info = True, as_supervised = True)\n",
    "# as supervised => loads data in a 2 tuple structure\n",
    "# with info => provides tuple containing version, features, no of samples etc"
   ]
  },
  {
   "cell_type": "code",
   "execution_count": 3,
   "id": "662903a6",
   "metadata": {},
   "outputs": [
    {
     "data": {
      "text/plain": [
       "tfds.core.DatasetInfo(\n",
       "    name='mnist',\n",
       "    full_name='mnist/3.0.1',\n",
       "    description=\"\"\"\n",
       "    The MNIST database of handwritten digits.\n",
       "    \"\"\",\n",
       "    homepage='http://yann.lecun.com/exdb/mnist/',\n",
       "    data_path='C:\\\\Users\\\\sreedev\\\\tensorflow_datasets\\\\mnist\\\\3.0.1',\n",
       "    file_format=tfrecord,\n",
       "    download_size=11.06 MiB,\n",
       "    dataset_size=21.00 MiB,\n",
       "    features=FeaturesDict({\n",
       "        'image': Image(shape=(28, 28, 1), dtype=tf.uint8),\n",
       "        'label': ClassLabel(shape=(), dtype=tf.int64, num_classes=10),\n",
       "    }),\n",
       "    supervised_keys=('image', 'label'),\n",
       "    disable_shuffling=False,\n",
       "    splits={\n",
       "        'test': <SplitInfo num_examples=10000, num_shards=1>,\n",
       "        'train': <SplitInfo num_examples=60000, num_shards=1>,\n",
       "    },\n",
       "    citation=\"\"\"@article{lecun2010mnist,\n",
       "      title={MNIST handwritten digit database},\n",
       "      author={LeCun, Yann and Cortes, Corinna and Burges, CJ},\n",
       "      journal={ATT Labs [Online]. Available: http://yann.lecun.com/exdb/mnist},\n",
       "      volume={2},\n",
       "      year={2010}\n",
       "    }\"\"\",\n",
       ")"
      ]
     },
     "execution_count": 3,
     "metadata": {},
     "output_type": "execute_result"
    }
   ],
   "source": [
    "mnist_info"
   ]
  },
  {
   "cell_type": "code",
   "execution_count": 4,
   "id": "d0335f96",
   "metadata": {},
   "outputs": [],
   "source": [
    "mnist_train, mnist_test = mnist_data['train'], mnist_data['test']\n",
    "\n",
    "#setting validation data number\n",
    "num_validation_samples = 0.1 * mnist_info.splits['train'].num_examples \n",
    "num_validation_samples = tf.cast(num_validation_samples, tf.int64)\n",
    "#num_examples = no of test images that are fed\n",
    "#tf.cast => to make sure the dataset is of integer number rather than float.\n",
    "\n",
    "num_test_samples = mnist_info.splits['test'].num_examples\n",
    "num_test_samples = tf.cast(num_test_samples, tf.int64)"
   ]
  },
  {
   "cell_type": "code",
   "execution_count": 5,
   "id": "f675f0e0",
   "metadata": {},
   "outputs": [],
   "source": [
    "def scale(image,label):\n",
    "    image = tf.cast(image, tf.float32)\n",
    "    image /=255. # /=255 => c /= a is equivalent to c = c / a. here image = image/255, to make all the values between 0 to 1.\n",
    "    # .is provided at the end of 255 to make the value as a float\n",
    "    return image, label"
   ]
  },
  {
   "cell_type": "code",
   "execution_count": 6,
   "id": "35476881",
   "metadata": {},
   "outputs": [],
   "source": [
    "scaled_train_and_validation_data = mnist_train.map(scale) # .map() applies a custom transformation to a given dataset.\n",
    "test_data = mnist_test.map(scale)"
   ]
  },
  {
   "cell_type": "code",
   "execution_count": 7,
   "id": "71e944f1",
   "metadata": {},
   "outputs": [],
   "source": [
    "#Shuffling data = keeping the same inforamtion in a different order, inorder to avoid patterns in dataset\n",
    "\n",
    "buffer_size = 10000\n",
    "shuffled_scaled_train_and_validation_data = scaled_train_and_validation_data.shuffle(buffer_size)\n",
    "\n",
    "validation_data = shuffled_scaled_train_and_validation_data.take(num_validation_samples)\n",
    "#take(), inorder to take a specific number of data from a dataset\n",
    "train_data = shuffled_scaled_train_and_validation_data.skip(num_validation_samples)\n",
    "#skip(), skips the data that is given in the parenthesis and takes the rest\n"
   ]
  },
  {
   "cell_type": "code",
   "execution_count": 8,
   "id": "998af0e1",
   "metadata": {},
   "outputs": [],
   "source": [
    "# we use minibatch gradient descent, so we need to divide the data into small batches\n",
    "batch_size = 100\n",
    "\n",
    "train_data = train_data.batch(batch_size) # To take the dataset as batches of defines numbers 'batch_size'\n",
    "validation_data = validation_data.batch(num_validation_samples) # To take the whole dataset rather than batches\n",
    "test_data = test_data.batch(num_test_samples)\n",
    "\n",
    "validation_inputs, validation_targets = next(iter(validation_data)) \n",
    "#iter() = to make the dataset iterable but will not load any data\n",
    "#next() = loads the next batch of iterable data, here we have only one batch."
   ]
  },
  {
   "cell_type": "markdown",
   "id": "6c2f111e",
   "metadata": {},
   "source": [
    "### Model\n",
    "#### Outlining the model"
   ]
  },
  {
   "cell_type": "code",
   "execution_count": 14,
   "id": "1f07b1d0",
   "metadata": {},
   "outputs": [],
   "source": [
    "input_size = 784\n",
    "output_size = 10\n",
    "hidden_layer_size = 100\n",
    "\n",
    "model =tf.keras.Sequential([\n",
    "                            tf.keras.layers.Flatten(input_shape=(28,28,1)), #Flatten() transforms a tensor into a vector.\n",
    "                            tf.keras.layers.Dense(hidden_layer_size, activation='relu'), #first hidden layer\n",
    "                            tf.keras.layers.Dense(hidden_layer_size, activation='relu'), #second hidden layer\n",
    "                            tf.keras.layers.Dense(output_size, activation = 'softmax') # to convert outputs into probabilities\n",
    "                            ])"
   ]
  },
  {
   "cell_type": "markdown",
   "id": "7c780b5a",
   "metadata": {},
   "source": [
    "### Optimizer and Loss function"
   ]
  },
  {
   "cell_type": "code",
   "execution_count": 15,
   "id": "ffe17093",
   "metadata": {},
   "outputs": [],
   "source": [
    "model.compile(optimizer = 'adam',loss='sparse_categorical_crossentropy', metrics = ['accuracy'])"
   ]
  },
  {
   "cell_type": "code",
   "execution_count": 16,
   "id": "ee39ba72",
   "metadata": {},
   "outputs": [
    {
     "name": "stdout",
     "output_type": "stream",
     "text": [
      "Epoch 1/5\n",
      "540/540 - 2s - loss: 0.3456 - accuracy: 0.9007 - val_loss: 0.1915 - val_accuracy: 0.9447 - 2s/epoch - 4ms/step\n",
      "Epoch 2/5\n",
      "540/540 - 2s - loss: 0.1393 - accuracy: 0.9588 - val_loss: 0.1114 - val_accuracy: 0.9675 - 2s/epoch - 3ms/step\n",
      "Epoch 3/5\n",
      "540/540 - 2s - loss: 0.0982 - accuracy: 0.9697 - val_loss: 0.1060 - val_accuracy: 0.9668 - 2s/epoch - 4ms/step\n",
      "Epoch 4/5\n",
      "540/540 - 2s - loss: 0.0772 - accuracy: 0.9770 - val_loss: 0.0840 - val_accuracy: 0.9742 - 2s/epoch - 3ms/step\n",
      "Epoch 5/5\n",
      "540/540 - 2s - loss: 0.0628 - accuracy: 0.9807 - val_loss: 0.0649 - val_accuracy: 0.9807 - 2s/epoch - 3ms/step\n"
     ]
    },
    {
     "data": {
      "text/plain": [
       "<keras.callbacks.History at 0x1429eab2370>"
      ]
     },
     "execution_count": 16,
     "metadata": {},
     "output_type": "execute_result"
    }
   ],
   "source": [
    "num_epochs = 5\n",
    "\n",
    "model.fit(train_data,epochs = num_epochs, validation_data = (validation_inputs, validation_targets), verbose=2)\n",
    "# 1. at the begining of each epoch, the training loss will be set to 0\n",
    "# 2. The algorithm will iterate over the preset number of batches\n",
    "# 3. The weights and biases will be updated as many times as the batches\n",
    "# 4. get value of loss function\n",
    "# 5. Gets trainig accuracy\n",
    "# 6. Algorithm will forward propagate the whole validation set."
   ]
  },
  {
   "cell_type": "markdown",
   "id": "a78e8c41",
   "metadata": {},
   "source": [
    "### Testing the model"
   ]
  },
  {
   "cell_type": "code",
   "execution_count": 17,
   "id": "e6dc05df",
   "metadata": {},
   "outputs": [
    {
     "name": "stdout",
     "output_type": "stream",
     "text": [
      "1/1 [==============================] - 0s 231ms/step - loss: 0.0854 - accuracy: 0.9722\n"
     ]
    }
   ],
   "source": [
    "test_loss, test_accuracy = model.evaluate(test_data)"
   ]
  },
  {
   "cell_type": "code",
   "execution_count": 23,
   "id": "6d00b2c4",
   "metadata": {},
   "outputs": [
    {
     "name": "stdout",
     "output_type": "stream",
     "text": [
      "test loss =  8.538 %\n"
     ]
    }
   ],
   "source": [
    "print('test loss = ', round(test_loss*100,3), '%')"
   ]
  },
  {
   "cell_type": "code",
   "execution_count": 22,
   "id": "3de70664",
   "metadata": {},
   "outputs": [
    {
     "name": "stdout",
     "output_type": "stream",
     "text": [
      "Test Accuracy =  97.22 %\n"
     ]
    }
   ],
   "source": [
    "print('Test Accuracy = ', round(test_accuracy*100,3), '%')"
   ]
  }
 ],
 "metadata": {
  "kernelspec": {
   "display_name": "Python 3 (ipykernel)",
   "language": "python",
   "name": "python3"
  },
  "language_info": {
   "codemirror_mode": {
    "name": "ipython",
    "version": 3
   },
   "file_extension": ".py",
   "mimetype": "text/x-python",
   "name": "python",
   "nbconvert_exporter": "python",
   "pygments_lexer": "ipython3",
   "version": "3.9.7"
  }
 },
 "nbformat": 4,
 "nbformat_minor": 5
}
